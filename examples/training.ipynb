{
  "nbformat": 4,
  "nbformat_minor": 0,
  "metadata": {
    "colab": {
      "name": "training.ipynb",
      "provenance": [],
      "collapsed_sections": [],
      "authorship_tag": "ABX9TyPRThTwP7MXw9+YmUyp79vI",
      "include_colab_link": true
    },
    "kernelspec": {
      "name": "python3",
      "display_name": "Python 3"
    },
    "accelerator": "GPU"
  },
  "cells": [
    {
      "cell_type": "markdown",
      "metadata": {
        "id": "view-in-github",
        "colab_type": "text"
      },
      "source": [
        "<a href=\"https://colab.research.google.com/github/himanshurawlani/tf2-retinanet/blob/master/examples/training.ipynb\" target=\"_parent\"><img src=\"https://colab.research.google.com/assets/colab-badge.svg\" alt=\"Open In Colab\"/></a>"
      ]
    },
    {
      "cell_type": "code",
      "metadata": {
        "id": "M_RActhypUGp",
        "colab_type": "code",
        "colab": {}
      },
      "source": [
        "import os"
      ],
      "execution_count": null,
      "outputs": []
    },
    {
      "cell_type": "markdown",
      "metadata": {
        "id": "ff7pgGi8XNfc",
        "colab_type": "text"
      },
      "source": [
        "# Upload and unzip data"
      ]
    },
    {
      "cell_type": "code",
      "metadata": {
        "id": "TvHjCkqibZ-l",
        "colab_type": "code",
        "colab": {}
      },
      "source": [
        "os.chdir('/content')\n",
        "!unzip data.zip"
      ],
      "execution_count": null,
      "outputs": []
    },
    {
      "cell_type": "markdown",
      "metadata": {
        "id": "S0UKLPCRXE9F",
        "colab_type": "text"
      },
      "source": [
        "# Optimising anchors"
      ]
    },
    {
      "cell_type": "markdown",
      "metadata": {
        "id": "fh7W8WDoxOhU",
        "colab_type": "text"
      },
      "source": [
        "### Clone the repository"
      ]
    },
    {
      "cell_type": "code",
      "metadata": {
        "id": "E9Yx4IRuXAGf",
        "colab_type": "code",
        "colab": {}
      },
      "source": [
        "os.chdir('/content')\n",
        "!git clone https://github.com/himanshurawlani/anchor-optimization.git"
      ],
      "execution_count": null,
      "outputs": []
    },
    {
      "cell_type": "markdown",
      "metadata": {
        "id": "rmnYI2qLxR-R",
        "colab_type": "text"
      },
      "source": [
        "### Install dependencies"
      ]
    },
    {
      "cell_type": "code",
      "metadata": {
        "id": "bzcxBIGOYqnv",
        "colab_type": "code",
        "colab": {}
      },
      "source": [
        "!pip install ray[tune]"
      ],
      "execution_count": null,
      "outputs": []
    },
    {
      "cell_type": "markdown",
      "metadata": {
        "id": "31EedeKBxVRN",
        "colab_type": "text"
      },
      "source": [
        "### Compile cython code"
      ]
    },
    {
      "cell_type": "code",
      "metadata": {
        "id": "kuiBH0rIXo_L",
        "colab_type": "code",
        "colab": {}
      },
      "source": [
        "os.chdir('/content/anchor-optimization')\n",
        "!python setup.py build_ext --inplace"
      ],
      "execution_count": null,
      "outputs": []
    },
    {
      "cell_type": "markdown",
      "metadata": {
        "id": "sovsbxvuxaTI",
        "colab_type": "text"
      },
      "source": [
        "### Run hyperopt seach"
      ]
    },
    {
      "cell_type": "code",
      "metadata": {
        "id": "jV4SeKqFYQ-e",
        "colab_type": "code",
        "colab": {}
      },
      "source": [
        "os.chdir('/content/anchor-optimization')\n",
        "!python optimize.py --train_annotations /content/data/train.csv --scales 5 --ratios 5 \\\n",
        "       --no-resize --samples 128 --save_output --output_path /content/optimized_anchors.json"
      ],
      "execution_count": null,
      "outputs": []
    },
    {
      "cell_type": "markdown",
      "metadata": {
        "id": "Hqq6fIUAXAjh",
        "colab_type": "text"
      },
      "source": [
        "# Training RetinaNet"
      ]
    },
    {
      "cell_type": "markdown",
      "metadata": {
        "id": "bzARiybAxlei",
        "colab_type": "text"
      },
      "source": [
        "### Clone the repository"
      ]
    },
    {
      "cell_type": "code",
      "metadata": {
        "id": "thSc__40U3BU",
        "colab_type": "code",
        "colab": {}
      },
      "source": [
        "os.chdir('/content')\n",
        "!git clone https://github.com/himanshurawlani/tf2-retinanet.git"
      ],
      "execution_count": null,
      "outputs": []
    },
    {
      "cell_type": "markdown",
      "metadata": {
        "id": "FrO2Rx2Nxp0R",
        "colab_type": "text"
      },
      "source": [
        "### Compile cython code"
      ]
    },
    {
      "cell_type": "code",
      "metadata": {
        "id": "T20UBraAVUM0",
        "colab_type": "code",
        "colab": {}
      },
      "source": [
        "os.chdir('/content/tf2-retinanet')\n",
        "!python setup.py build_ext --inplace"
      ],
      "execution_count": null,
      "outputs": []
    },
    {
      "cell_type": "markdown",
      "metadata": {
        "id": "GkzuQhTZxiBJ",
        "colab_type": "text"
      },
      "source": [
        "### Using ResNet50V2 backbone"
      ]
    },
    {
      "cell_type": "code",
      "metadata": {
        "id": "MAisrSwTVvsX",
        "colab_type": "code",
        "colab": {}
      },
      "source": [
        "os.chdir('/content/tf2-retinanet/tf_retinanet')\n",
        "!python bin/train.py --backbone resnetv2 --generator csv --random-visual-effect --batch-size 8 \\\n",
        "        --shuffle-groups --no-resize --freeze-backbone --anchor-config /content/optimized_anchors.json --gpu 0 --epochs 10 \\\n",
        "        --dataset-type csv --train-annotations /content/data/train.csv --train-classes /content/data/class_ids.csv \\\n",
        "        --val-annotations /content/data/val.csv --workers 5"
      ],
      "execution_count": null,
      "outputs": []
    },
    {
      "cell_type": "markdown",
      "metadata": {
        "id": "YUGTsHjehkM-",
        "colab_type": "text"
      },
      "source": [
        "### Using BiT backbone"
      ]
    },
    {
      "cell_type": "code",
      "metadata": {
        "id": "jEzaE6DfW3TU",
        "colab_type": "code",
        "colab": {}
      },
      "source": [
        "os.chdir('/content/tf2-retinanet/tf_retinanet')\n",
        "!python bin/train.py --backbone bit --generator csv --random-visual-effect --batch-size 8 \\\n",
        "        --shuffle-groups --no-resize --freeze-backbone --anchor-config /content/optimized_anchors.json --gpu 0 --epochs 100 \\\n",
        "        --dataset-type csv --train-annotations /content/data/train.csv --train-classes /content/data/class_ids.csv \\\n",
        "        --val-annotations /content/data/val.csv --workers 5"
      ],
      "execution_count": null,
      "outputs": []
    },
    {
      "cell_type": "code",
      "metadata": {
        "id": "PB2lNWNYqzSl",
        "colab_type": "code",
        "colab": {}
      },
      "source": [
        ""
      ],
      "execution_count": null,
      "outputs": []
    }
  ]
}